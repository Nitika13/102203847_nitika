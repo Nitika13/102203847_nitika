{
 "cells": [
  {
   "cell_type": "code",
   "execution_count": 1,
   "id": "c2a9f5a0",
   "metadata": {
    "vscode": {
     "languageId": "plaintext"
    }
   },
   "outputs": [
    {
     "name": "stdout",
     "output_type": "stream",
     "text": [
      "Requirement already satisfied: notebook in c:\\users\\nitik\\onedrive\\desktop\\product-recommender\\.venv\\lib\\site-packages (7.4.7)\n",
      "Requirement already satisfied: pandas in c:\\users\\nitik\\onedrive\\desktop\\product-recommender\\.venv\\lib\\site-packages (2.3.3)\n",
      "Requirement already satisfied: numpy in c:\\users\\nitik\\onedrive\\desktop\\product-recommender\\.venv\\lib\\site-packages (2.3.4)\n",
      "Requirement already satisfied: matplotlib in c:\\users\\nitik\\onedrive\\desktop\\product-recommender\\.venv\\lib\\site-packages (3.10.7)\n",
      "Requirement already satisfied: scikit-learn in c:\\users\\nitik\\onedrive\\desktop\\product-recommender\\.venv\\lib\\site-packages (1.7.2)\n",
      "Requirement already satisfied: sentence-transformers in c:\\users\\nitik\\onedrive\\desktop\\product-recommender\\.venv\\lib\\site-packages (5.1.1)\n",
      "Requirement already satisfied: faiss-cpu in c:\\users\\nitik\\onedrive\\desktop\\product-recommender\\.venv\\lib\\site-packages (1.12.0)\n",
      "Requirement already satisfied: pillow in c:\\users\\nitik\\onedrive\\desktop\\product-recommender\\.venv\\lib\\site-packages (12.0.0)\n",
      "Requirement already satisfied: jupyter-server<3,>=2.4.0 in c:\\users\\nitik\\onedrive\\desktop\\product-recommender\\.venv\\lib\\site-packages (from notebook) (2.17.0)\n",
      "Requirement already satisfied: jupyterlab-server<3,>=2.27.1 in c:\\users\\nitik\\onedrive\\desktop\\product-recommender\\.venv\\lib\\site-packages (from notebook) (2.27.3)\n",
      "Requirement already satisfied: jupyterlab<4.5,>=4.4.9 in c:\\users\\nitik\\onedrive\\desktop\\product-recommender\\.venv\\lib\\site-packages (from notebook) (4.4.9)\n",
      "Requirement already satisfied: notebook-shim<0.3,>=0.2 in c:\\users\\nitik\\onedrive\\desktop\\product-recommender\\.venv\\lib\\site-packages (from notebook) (0.2.4)\n",
      "Requirement already satisfied: tornado>=6.2.0 in c:\\users\\nitik\\onedrive\\desktop\\product-recommender\\.venv\\lib\\site-packages (from notebook) (6.5.2)\n",
      "Requirement already satisfied: python-dateutil>=2.8.2 in c:\\users\\nitik\\onedrive\\desktop\\product-recommender\\.venv\\lib\\site-packages (from pandas) (2.9.0.post0)\n",
      "Requirement already satisfied: pytz>=2020.1 in c:\\users\\nitik\\onedrive\\desktop\\product-recommender\\.venv\\lib\\site-packages (from pandas) (2025.2)\n",
      "Requirement already satisfied: tzdata>=2022.7 in c:\\users\\nitik\\onedrive\\desktop\\product-recommender\\.venv\\lib\\site-packages (from pandas) (2025.2)\n",
      "Requirement already satisfied: contourpy>=1.0.1 in c:\\users\\nitik\\onedrive\\desktop\\product-recommender\\.venv\\lib\\site-packages (from matplotlib) (1.3.3)\n",
      "Requirement already satisfied: cycler>=0.10 in c:\\users\\nitik\\onedrive\\desktop\\product-recommender\\.venv\\lib\\site-packages (from matplotlib) (0.12.1)\n",
      "Requirement already satisfied: fonttools>=4.22.0 in c:\\users\\nitik\\onedrive\\desktop\\product-recommender\\.venv\\lib\\site-packages (from matplotlib) (4.60.1)\n",
      "Requirement already satisfied: kiwisolver>=1.3.1 in c:\\users\\nitik\\onedrive\\desktop\\product-recommender\\.venv\\lib\\site-packages (from matplotlib) (1.4.9)\n",
      "Requirement already satisfied: packaging>=20.0 in c:\\users\\nitik\\onedrive\\desktop\\product-recommender\\.venv\\lib\\site-packages (from matplotlib) (25.0)\n",
      "Requirement already satisfied: pyparsing>=3 in c:\\users\\nitik\\onedrive\\desktop\\product-recommender\\.venv\\lib\\site-packages (from matplotlib) (3.2.5)\n",
      "Requirement already satisfied: scipy>=1.8.0 in c:\\users\\nitik\\onedrive\\desktop\\product-recommender\\.venv\\lib\\site-packages (from scikit-learn) (1.16.2)\n",
      "Requirement already satisfied: joblib>=1.2.0 in c:\\users\\nitik\\onedrive\\desktop\\product-recommender\\.venv\\lib\\site-packages (from scikit-learn) (1.5.2)\n",
      "Requirement already satisfied: threadpoolctl>=3.1.0 in c:\\users\\nitik\\onedrive\\desktop\\product-recommender\\.venv\\lib\\site-packages (from scikit-learn) (3.6.0)\n",
      "Requirement already satisfied: transformers<5.0.0,>=4.41.0 in c:\\users\\nitik\\onedrive\\desktop\\product-recommender\\.venv\\lib\\site-packages (from sentence-transformers) (4.57.1)\n",
      "Requirement already satisfied: tqdm in c:\\users\\nitik\\onedrive\\desktop\\product-recommender\\.venv\\lib\\site-packages (from sentence-transformers) (4.67.1)\n",
      "Requirement already satisfied: torch>=1.11.0 in c:\\users\\nitik\\onedrive\\desktop\\product-recommender\\.venv\\lib\\site-packages (from sentence-transformers) (2.9.0)\n",
      "Requirement already satisfied: huggingface-hub>=0.20.0 in c:\\users\\nitik\\onedrive\\desktop\\product-recommender\\.venv\\lib\\site-packages (from sentence-transformers) (0.35.3)\n",
      "Requirement already satisfied: typing_extensions>=4.5.0 in c:\\users\\nitik\\onedrive\\desktop\\product-recommender\\.venv\\lib\\site-packages (from sentence-transformers) (4.15.0)\n",
      "Requirement already satisfied: filelock in c:\\users\\nitik\\onedrive\\desktop\\product-recommender\\.venv\\lib\\site-packages (from huggingface-hub>=0.20.0->sentence-transformers) (3.20.0)\n",
      "Requirement already satisfied: fsspec>=2023.5.0 in c:\\users\\nitik\\onedrive\\desktop\\product-recommender\\.venv\\lib\\site-packages (from huggingface-hub>=0.20.0->sentence-transformers) (2025.9.0)\n",
      "Requirement already satisfied: pyyaml>=5.1 in c:\\users\\nitik\\onedrive\\desktop\\product-recommender\\.venv\\lib\\site-packages (from huggingface-hub>=0.20.0->sentence-transformers) (6.0.3)\n",
      "Requirement already satisfied: requests in c:\\users\\nitik\\onedrive\\desktop\\product-recommender\\.venv\\lib\\site-packages (from huggingface-hub>=0.20.0->sentence-transformers) (2.32.5)\n",
      "Requirement already satisfied: anyio>=3.1.0 in c:\\users\\nitik\\onedrive\\desktop\\product-recommender\\.venv\\lib\\site-packages (from jupyter-server<3,>=2.4.0->notebook) (4.11.0)\n",
      "Requirement already satisfied: argon2-cffi>=21.1 in c:\\users\\nitik\\onedrive\\desktop\\product-recommender\\.venv\\lib\\site-packages (from jupyter-server<3,>=2.4.0->notebook) (25.1.0)\n",
      "Requirement already satisfied: jinja2>=3.0.3 in c:\\users\\nitik\\onedrive\\desktop\\product-recommender\\.venv\\lib\\site-packages (from jupyter-server<3,>=2.4.0->notebook) (3.1.6)\n",
      "Requirement already satisfied: jupyter-client>=7.4.4 in c:\\users\\nitik\\onedrive\\desktop\\product-recommender\\.venv\\lib\\site-packages (from jupyter-server<3,>=2.4.0->notebook) (8.6.3)\n",
      "Requirement already satisfied: jupyter-core!=5.0.*,>=4.12 in c:\\users\\nitik\\onedrive\\desktop\\product-recommender\\.venv\\lib\\site-packages (from jupyter-server<3,>=2.4.0->notebook) (5.9.1)\n",
      "Requirement already satisfied: jupyter-events>=0.11.0 in c:\\users\\nitik\\onedrive\\desktop\\product-recommender\\.venv\\lib\\site-packages (from jupyter-server<3,>=2.4.0->notebook) (0.12.0)\n",
      "Requirement already satisfied: jupyter-server-terminals>=0.4.4 in c:\\users\\nitik\\onedrive\\desktop\\product-recommender\\.venv\\lib\\site-packages (from jupyter-server<3,>=2.4.0->notebook) (0.5.3)\n",
      "Requirement already satisfied: nbconvert>=6.4.4 in c:\\users\\nitik\\onedrive\\desktop\\product-recommender\\.venv\\lib\\site-packages (from jupyter-server<3,>=2.4.0->notebook) (7.16.6)\n",
      "Requirement already satisfied: nbformat>=5.3.0 in c:\\users\\nitik\\onedrive\\desktop\\product-recommender\\.venv\\lib\\site-packages (from jupyter-server<3,>=2.4.0->notebook) (5.10.4)\n",
      "Requirement already satisfied: prometheus-client>=0.9 in c:\\users\\nitik\\onedrive\\desktop\\product-recommender\\.venv\\lib\\site-packages (from jupyter-server<3,>=2.4.0->notebook) (0.23.1)\n",
      "Requirement already satisfied: pywinpty>=2.0.1 in c:\\users\\nitik\\onedrive\\desktop\\product-recommender\\.venv\\lib\\site-packages (from jupyter-server<3,>=2.4.0->notebook) (3.0.2)\n",
      "Requirement already satisfied: pyzmq>=24 in c:\\users\\nitik\\onedrive\\desktop\\product-recommender\\.venv\\lib\\site-packages (from jupyter-server<3,>=2.4.0->notebook) (27.1.0)\n",
      "Requirement already satisfied: send2trash>=1.8.2 in c:\\users\\nitik\\onedrive\\desktop\\product-recommender\\.venv\\lib\\site-packages (from jupyter-server<3,>=2.4.0->notebook) (1.8.3)\n",
      "Requirement already satisfied: terminado>=0.8.3 in c:\\users\\nitik\\onedrive\\desktop\\product-recommender\\.venv\\lib\\site-packages (from jupyter-server<3,>=2.4.0->notebook) (0.18.1)\n",
      "Requirement already satisfied: traitlets>=5.6.0 in c:\\users\\nitik\\onedrive\\desktop\\product-recommender\\.venv\\lib\\site-packages (from jupyter-server<3,>=2.4.0->notebook) (5.14.3)\n",
      "Requirement already satisfied: websocket-client>=1.7 in c:\\users\\nitik\\onedrive\\desktop\\product-recommender\\.venv\\lib\\site-packages (from jupyter-server<3,>=2.4.0->notebook) (1.9.0)\n",
      "Requirement already satisfied: async-lru>=1.0.0 in c:\\users\\nitik\\onedrive\\desktop\\product-recommender\\.venv\\lib\\site-packages (from jupyterlab<4.5,>=4.4.9->notebook) (2.0.5)\n",
      "Requirement already satisfied: httpx<1,>=0.25.0 in c:\\users\\nitik\\onedrive\\desktop\\product-recommender\\.venv\\lib\\site-packages (from jupyterlab<4.5,>=4.4.9->notebook) (0.28.1)\n",
      "Requirement already satisfied: ipykernel!=6.30.0,>=6.5.0 in c:\\users\\nitik\\onedrive\\desktop\\product-recommender\\.venv\\lib\\site-packages (from jupyterlab<4.5,>=4.4.9->notebook) (7.0.1)\n",
      "Requirement already satisfied: jupyter-lsp>=2.0.0 in c:\\users\\nitik\\onedrive\\desktop\\product-recommender\\.venv\\lib\\site-packages (from jupyterlab<4.5,>=4.4.9->notebook) (2.3.0)\n",
      "Requirement already satisfied: setuptools>=41.1.0 in c:\\users\\nitik\\onedrive\\desktop\\product-recommender\\.venv\\lib\\site-packages (from jupyterlab<4.5,>=4.4.9->notebook) (80.9.0)\n",
      "Requirement already satisfied: babel>=2.10 in c:\\users\\nitik\\onedrive\\desktop\\product-recommender\\.venv\\lib\\site-packages (from jupyterlab-server<3,>=2.27.1->notebook) (2.17.0)\n",
      "Requirement already satisfied: json5>=0.9.0 in c:\\users\\nitik\\onedrive\\desktop\\product-recommender\\.venv\\lib\\site-packages (from jupyterlab-server<3,>=2.27.1->notebook) (0.12.1)\n",
      "Requirement already satisfied: jsonschema>=4.18.0 in c:\\users\\nitik\\onedrive\\desktop\\product-recommender\\.venv\\lib\\site-packages (from jupyterlab-server<3,>=2.27.1->notebook) (4.25.1)\n",
      "Requirement already satisfied: six>=1.5 in c:\\users\\nitik\\onedrive\\desktop\\product-recommender\\.venv\\lib\\site-packages (from python-dateutil>=2.8.2->pandas) (1.17.0)\n",
      "Requirement already satisfied: sympy>=1.13.3 in c:\\users\\nitik\\onedrive\\desktop\\product-recommender\\.venv\\lib\\site-packages (from torch>=1.11.0->sentence-transformers) (1.14.0)\n",
      "Requirement already satisfied: networkx>=2.5.1 in c:\\users\\nitik\\onedrive\\desktop\\product-recommender\\.venv\\lib\\site-packages (from torch>=1.11.0->sentence-transformers) (3.5)\n",
      "Requirement already satisfied: colorama in c:\\users\\nitik\\onedrive\\desktop\\product-recommender\\.venv\\lib\\site-packages (from tqdm->sentence-transformers) (0.4.6)\n",
      "Requirement already satisfied: regex!=2019.12.17 in c:\\users\\nitik\\onedrive\\desktop\\product-recommender\\.venv\\lib\\site-packages (from transformers<5.0.0,>=4.41.0->sentence-transformers) (2025.9.18)\n",
      "Requirement already satisfied: tokenizers<=0.23.0,>=0.22.0 in c:\\users\\nitik\\onedrive\\desktop\\product-recommender\\.venv\\lib\\site-packages (from transformers<5.0.0,>=4.41.0->sentence-transformers) (0.22.1)\n",
      "Requirement already satisfied: safetensors>=0.4.3 in c:\\users\\nitik\\onedrive\\desktop\\product-recommender\\.venv\\lib\\site-packages (from transformers<5.0.0,>=4.41.0->sentence-transformers) (0.6.2)\n",
      "Requirement already satisfied: idna>=2.8 in c:\\users\\nitik\\onedrive\\desktop\\product-recommender\\.venv\\lib\\site-packages (from anyio>=3.1.0->jupyter-server<3,>=2.4.0->notebook) (3.11)\n",
      "Requirement already satisfied: sniffio>=1.1 in c:\\users\\nitik\\onedrive\\desktop\\product-recommender\\.venv\\lib\\site-packages (from anyio>=3.1.0->jupyter-server<3,>=2.4.0->notebook) (1.3.1)\n",
      "Requirement already satisfied: argon2-cffi-bindings in c:\\users\\nitik\\onedrive\\desktop\\product-recommender\\.venv\\lib\\site-packages (from argon2-cffi>=21.1->jupyter-server<3,>=2.4.0->notebook) (25.1.0)\n",
      "Requirement already satisfied: certifi in c:\\users\\nitik\\onedrive\\desktop\\product-recommender\\.venv\\lib\\site-packages (from httpx<1,>=0.25.0->jupyterlab<4.5,>=4.4.9->notebook) (2025.10.5)\n",
      "Requirement already satisfied: httpcore==1.* in c:\\users\\nitik\\onedrive\\desktop\\product-recommender\\.venv\\lib\\site-packages (from httpx<1,>=0.25.0->jupyterlab<4.5,>=4.4.9->notebook) (1.0.9)\n",
      "Requirement already satisfied: h11>=0.16 in c:\\users\\nitik\\onedrive\\desktop\\product-recommender\\.venv\\lib\\site-packages (from httpcore==1.*->httpx<1,>=0.25.0->jupyterlab<4.5,>=4.4.9->notebook) (0.16.0)\n",
      "Requirement already satisfied: comm>=0.1.1 in c:\\users\\nitik\\onedrive\\desktop\\product-recommender\\.venv\\lib\\site-packages (from ipykernel!=6.30.0,>=6.5.0->jupyterlab<4.5,>=4.4.9->notebook) (0.2.3)\n",
      "Requirement already satisfied: debugpy>=1.6.5 in c:\\users\\nitik\\onedrive\\desktop\\product-recommender\\.venv\\lib\\site-packages (from ipykernel!=6.30.0,>=6.5.0->jupyterlab<4.5,>=4.4.9->notebook) (1.8.17)\n",
      "Requirement already satisfied: ipython>=7.23.1 in c:\\users\\nitik\\onedrive\\desktop\\product-recommender\\.venv\\lib\\site-packages (from ipykernel!=6.30.0,>=6.5.0->jupyterlab<4.5,>=4.4.9->notebook) (9.6.0)\n",
      "Requirement already satisfied: matplotlib-inline>=0.1 in c:\\users\\nitik\\onedrive\\desktop\\product-recommender\\.venv\\lib\\site-packages (from ipykernel!=6.30.0,>=6.5.0->jupyterlab<4.5,>=4.4.9->notebook) (0.1.7)\n",
      "Requirement already satisfied: nest-asyncio>=1.4 in c:\\users\\nitik\\onedrive\\desktop\\product-recommender\\.venv\\lib\\site-packages (from ipykernel!=6.30.0,>=6.5.0->jupyterlab<4.5,>=4.4.9->notebook) (1.6.0)\n",
      "Requirement already satisfied: psutil>=5.7 in c:\\users\\nitik\\onedrive\\desktop\\product-recommender\\.venv\\lib\\site-packages (from ipykernel!=6.30.0,>=6.5.0->jupyterlab<4.5,>=4.4.9->notebook) (7.1.0)\n",
      "Requirement already satisfied: MarkupSafe>=2.0 in c:\\users\\nitik\\onedrive\\desktop\\product-recommender\\.venv\\lib\\site-packages (from jinja2>=3.0.3->jupyter-server<3,>=2.4.0->notebook) (3.0.3)\n",
      "Requirement already satisfied: attrs>=22.2.0 in c:\\users\\nitik\\onedrive\\desktop\\product-recommender\\.venv\\lib\\site-packages (from jsonschema>=4.18.0->jupyterlab-server<3,>=2.27.1->notebook) (25.4.0)\n",
      "Requirement already satisfied: jsonschema-specifications>=2023.03.6 in c:\\users\\nitik\\onedrive\\desktop\\product-recommender\\.venv\\lib\\site-packages (from jsonschema>=4.18.0->jupyterlab-server<3,>=2.27.1->notebook) (2025.9.1)\n",
      "Requirement already satisfied: referencing>=0.28.4 in c:\\users\\nitik\\onedrive\\desktop\\product-recommender\\.venv\\lib\\site-packages (from jsonschema>=4.18.0->jupyterlab-server<3,>=2.27.1->notebook) (0.37.0)\n",
      "Requirement already satisfied: rpds-py>=0.7.1 in c:\\users\\nitik\\onedrive\\desktop\\product-recommender\\.venv\\lib\\site-packages (from jsonschema>=4.18.0->jupyterlab-server<3,>=2.27.1->notebook) (0.27.1)\n",
      "Requirement already satisfied: platformdirs>=2.5 in c:\\users\\nitik\\onedrive\\desktop\\product-recommender\\.venv\\lib\\site-packages (from jupyter-core!=5.0.*,>=4.12->jupyter-server<3,>=2.4.0->notebook) (4.5.0)\n",
      "Requirement already satisfied: python-json-logger>=2.0.4 in c:\\users\\nitik\\onedrive\\desktop\\product-recommender\\.venv\\lib\\site-packages (from jupyter-events>=0.11.0->jupyter-server<3,>=2.4.0->notebook) (4.0.0)\n",
      "Requirement already satisfied: rfc3339-validator in c:\\users\\nitik\\onedrive\\desktop\\product-recommender\\.venv\\lib\\site-packages (from jupyter-events>=0.11.0->jupyter-server<3,>=2.4.0->notebook) (0.1.4)\n",
      "Requirement already satisfied: rfc3986-validator>=0.1.1 in c:\\users\\nitik\\onedrive\\desktop\\product-recommender\\.venv\\lib\\site-packages (from jupyter-events>=0.11.0->jupyter-server<3,>=2.4.0->notebook) (0.1.1)\n",
      "Requirement already satisfied: beautifulsoup4 in c:\\users\\nitik\\onedrive\\desktop\\product-recommender\\.venv\\lib\\site-packages (from nbconvert>=6.4.4->jupyter-server<3,>=2.4.0->notebook) (4.14.2)\n",
      "Requirement already satisfied: bleach!=5.0.0 in c:\\users\\nitik\\onedrive\\desktop\\product-recommender\\.venv\\lib\\site-packages (from bleach[css]!=5.0.0->nbconvert>=6.4.4->jupyter-server<3,>=2.4.0->notebook) (6.2.0)\n",
      "Requirement already satisfied: defusedxml in c:\\users\\nitik\\onedrive\\desktop\\product-recommender\\.venv\\lib\\site-packages (from nbconvert>=6.4.4->jupyter-server<3,>=2.4.0->notebook) (0.7.1)\n",
      "Requirement already satisfied: jupyterlab-pygments in c:\\users\\nitik\\onedrive\\desktop\\product-recommender\\.venv\\lib\\site-packages (from nbconvert>=6.4.4->jupyter-server<3,>=2.4.0->notebook) (0.3.0)\n",
      "Requirement already satisfied: mistune<4,>=2.0.3 in c:\\users\\nitik\\onedrive\\desktop\\product-recommender\\.venv\\lib\\site-packages (from nbconvert>=6.4.4->jupyter-server<3,>=2.4.0->notebook) (3.1.4)\n",
      "Requirement already satisfied: nbclient>=0.5.0 in c:\\users\\nitik\\onedrive\\desktop\\product-recommender\\.venv\\lib\\site-packages (from nbconvert>=6.4.4->jupyter-server<3,>=2.4.0->notebook) (0.10.2)\n",
      "Requirement already satisfied: pandocfilters>=1.4.1 in c:\\users\\nitik\\onedrive\\desktop\\product-recommender\\.venv\\lib\\site-packages (from nbconvert>=6.4.4->jupyter-server<3,>=2.4.0->notebook) (1.5.1)\n",
      "Requirement already satisfied: pygments>=2.4.1 in c:\\users\\nitik\\onedrive\\desktop\\product-recommender\\.venv\\lib\\site-packages (from nbconvert>=6.4.4->jupyter-server<3,>=2.4.0->notebook) (2.19.2)\n",
      "Requirement already satisfied: fastjsonschema>=2.15 in c:\\users\\nitik\\onedrive\\desktop\\product-recommender\\.venv\\lib\\site-packages (from nbformat>=5.3.0->jupyter-server<3,>=2.4.0->notebook) (2.21.2)\n",
      "Requirement already satisfied: charset_normalizer<4,>=2 in c:\\users\\nitik\\onedrive\\desktop\\product-recommender\\.venv\\lib\\site-packages (from requests->huggingface-hub>=0.20.0->sentence-transformers) (3.4.4)\n",
      "Requirement already satisfied: urllib3<3,>=1.21.1 in c:\\users\\nitik\\onedrive\\desktop\\product-recommender\\.venv\\lib\\site-packages (from requests->huggingface-hub>=0.20.0->sentence-transformers) (2.5.0)\n",
      "Requirement already satisfied: mpmath<1.4,>=1.1.0 in c:\\users\\nitik\\onedrive\\desktop\\product-recommender\\.venv\\lib\\site-packages (from sympy>=1.13.3->torch>=1.11.0->sentence-transformers) (1.3.0)\n",
      "Requirement already satisfied: webencodings in c:\\users\\nitik\\onedrive\\desktop\\product-recommender\\.venv\\lib\\site-packages (from bleach!=5.0.0->bleach[css]!=5.0.0->nbconvert>=6.4.4->jupyter-server<3,>=2.4.0->notebook) (0.5.1)\n",
      "Requirement already satisfied: tinycss2<1.5,>=1.1.0 in c:\\users\\nitik\\onedrive\\desktop\\product-recommender\\.venv\\lib\\site-packages (from bleach[css]!=5.0.0->nbconvert>=6.4.4->jupyter-server<3,>=2.4.0->notebook) (1.4.0)\n",
      "Requirement already satisfied: decorator in c:\\users\\nitik\\onedrive\\desktop\\product-recommender\\.venv\\lib\\site-packages (from ipython>=7.23.1->ipykernel!=6.30.0,>=6.5.0->jupyterlab<4.5,>=4.4.9->notebook) (5.2.1)\n",
      "Requirement already satisfied: ipython-pygments-lexers in c:\\users\\nitik\\onedrive\\desktop\\product-recommender\\.venv\\lib\\site-packages (from ipython>=7.23.1->ipykernel!=6.30.0,>=6.5.0->jupyterlab<4.5,>=4.4.9->notebook) (1.1.1)\n",
      "Requirement already satisfied: jedi>=0.16 in c:\\users\\nitik\\onedrive\\desktop\\product-recommender\\.venv\\lib\\site-packages (from ipython>=7.23.1->ipykernel!=6.30.0,>=6.5.0->jupyterlab<4.5,>=4.4.9->notebook) (0.19.2)\n",
      "Requirement already satisfied: prompt_toolkit<3.1.0,>=3.0.41 in c:\\users\\nitik\\onedrive\\desktop\\product-recommender\\.venv\\lib\\site-packages (from ipython>=7.23.1->ipykernel!=6.30.0,>=6.5.0->jupyterlab<4.5,>=4.4.9->notebook) (3.0.52)\n",
      "Requirement already satisfied: stack_data in c:\\users\\nitik\\onedrive\\desktop\\product-recommender\\.venv\\lib\\site-packages (from ipython>=7.23.1->ipykernel!=6.30.0,>=6.5.0->jupyterlab<4.5,>=4.4.9->notebook) (0.6.3)\n",
      "Requirement already satisfied: fqdn in c:\\users\\nitik\\onedrive\\desktop\\product-recommender\\.venv\\lib\\site-packages (from jsonschema[format-nongpl]>=4.18.0->jupyter-events>=0.11.0->jupyter-server<3,>=2.4.0->notebook) (1.5.1)\n",
      "Requirement already satisfied: isoduration in c:\\users\\nitik\\onedrive\\desktop\\product-recommender\\.venv\\lib\\site-packages (from jsonschema[format-nongpl]>=4.18.0->jupyter-events>=0.11.0->jupyter-server<3,>=2.4.0->notebook) (20.11.0)\n",
      "Requirement already satisfied: jsonpointer>1.13 in c:\\users\\nitik\\onedrive\\desktop\\product-recommender\\.venv\\lib\\site-packages (from jsonschema[format-nongpl]>=4.18.0->jupyter-events>=0.11.0->jupyter-server<3,>=2.4.0->notebook) (3.0.0)\n",
      "Requirement already satisfied: rfc3987-syntax>=1.1.0 in c:\\users\\nitik\\onedrive\\desktop\\product-recommender\\.venv\\lib\\site-packages (from jsonschema[format-nongpl]>=4.18.0->jupyter-events>=0.11.0->jupyter-server<3,>=2.4.0->notebook) (1.1.0)\n",
      "Requirement already satisfied: uri-template in c:\\users\\nitik\\onedrive\\desktop\\product-recommender\\.venv\\lib\\site-packages (from jsonschema[format-nongpl]>=4.18.0->jupyter-events>=0.11.0->jupyter-server<3,>=2.4.0->notebook) (1.3.0)\n",
      "Requirement already satisfied: webcolors>=24.6.0 in c:\\users\\nitik\\onedrive\\desktop\\product-recommender\\.venv\\lib\\site-packages (from jsonschema[format-nongpl]>=4.18.0->jupyter-events>=0.11.0->jupyter-server<3,>=2.4.0->notebook) (24.11.1)\n",
      "Requirement already satisfied: cffi>=1.0.1 in c:\\users\\nitik\\onedrive\\desktop\\product-recommender\\.venv\\lib\\site-packages (from argon2-cffi-bindings->argon2-cffi>=21.1->jupyter-server<3,>=2.4.0->notebook) (2.0.0)\n",
      "Requirement already satisfied: soupsieve>1.2 in c:\\users\\nitik\\onedrive\\desktop\\product-recommender\\.venv\\lib\\site-packages (from beautifulsoup4->nbconvert>=6.4.4->jupyter-server<3,>=2.4.0->notebook) (2.8)\n",
      "Requirement already satisfied: pycparser in c:\\users\\nitik\\onedrive\\desktop\\product-recommender\\.venv\\lib\\site-packages (from cffi>=1.0.1->argon2-cffi-bindings->argon2-cffi>=21.1->jupyter-server<3,>=2.4.0->notebook) (2.23)\n",
      "Requirement already satisfied: parso<0.9.0,>=0.8.4 in c:\\users\\nitik\\onedrive\\desktop\\product-recommender\\.venv\\lib\\site-packages (from jedi>=0.16->ipython>=7.23.1->ipykernel!=6.30.0,>=6.5.0->jupyterlab<4.5,>=4.4.9->notebook) (0.8.5)\n",
      "Requirement already satisfied: wcwidth in c:\\users\\nitik\\onedrive\\desktop\\product-recommender\\.venv\\lib\\site-packages (from prompt_toolkit<3.1.0,>=3.0.41->ipython>=7.23.1->ipykernel!=6.30.0,>=6.5.0->jupyterlab<4.5,>=4.4.9->notebook) (0.2.14)\n",
      "Requirement already satisfied: lark>=1.2.2 in c:\\users\\nitik\\onedrive\\desktop\\product-recommender\\.venv\\lib\\site-packages (from rfc3987-syntax>=1.1.0->jsonschema[format-nongpl]>=4.18.0->jupyter-events>=0.11.0->jupyter-server<3,>=2.4.0->notebook) (1.3.0)\n",
      "Requirement already satisfied: arrow>=0.15.0 in c:\\users\\nitik\\onedrive\\desktop\\product-recommender\\.venv\\lib\\site-packages (from isoduration->jsonschema[format-nongpl]>=4.18.0->jupyter-events>=0.11.0->jupyter-server<3,>=2.4.0->notebook) (1.4.0)\n",
      "Requirement already satisfied: executing>=1.2.0 in c:\\users\\nitik\\onedrive\\desktop\\product-recommender\\.venv\\lib\\site-packages (from stack_data->ipython>=7.23.1->ipykernel!=6.30.0,>=6.5.0->jupyterlab<4.5,>=4.4.9->notebook) (2.2.1)\n",
      "Requirement already satisfied: asttokens>=2.1.0 in c:\\users\\nitik\\onedrive\\desktop\\product-recommender\\.venv\\lib\\site-packages (from stack_data->ipython>=7.23.1->ipykernel!=6.30.0,>=6.5.0->jupyterlab<4.5,>=4.4.9->notebook) (3.0.0)\n",
      "Requirement already satisfied: pure-eval in c:\\users\\nitik\\onedrive\\desktop\\product-recommender\\.venv\\lib\\site-packages (from stack_data->ipython>=7.23.1->ipykernel!=6.30.0,>=6.5.0->jupyterlab<4.5,>=4.4.9->notebook) (0.2.3)\n"
     ]
    },
    {
     "name": "stderr",
     "output_type": "stream",
     "text": [
      "\n",
      "[notice] A new release of pip is available: 24.3.1 -> 25.2\n",
      "[notice] To update, run: python.exe -m pip install --upgrade pip\n"
     ]
    }
   ],
   "source": [
    "!pip install notebook pandas numpy matplotlib scikit-learn sentence-transformers faiss-cpu pillow"
   ]
  },
  {
   "cell_type": "code",
   "execution_count": 2,
   "id": "e2cfc5bc",
   "metadata": {
    "vscode": {
     "languageId": "plaintext"
    }
   },
   "outputs": [],
   "source": [
    "# 01 — Data exploration & embedding index\n",
    "#Load dataset, run EDA, compute text embeddings using `all-MiniLM-L6-v2` and save embeddings + index.\n"
   ]
  },
  {
   "cell_type": "code",
   "execution_count": 3,
   "id": "8f86e179",
   "metadata": {
    "vscode": {
     "languageId": "plaintext"
    }
   },
   "outputs": [
    {
     "name": "stderr",
     "output_type": "stream",
     "text": [
      "C:\\Users\\nitik\\OneDrive\\Desktop\\product-recommender\\.venv\\Lib\\site-packages\\tqdm\\auto.py:21: TqdmWarning: IProgress not found. Please update jupyter and ipywidgets. See https://ipywidgets.readthedocs.io/en/stable/user_install.html\n",
      "  from .autonotebook import tqdm as notebook_tqdm\n"
     ]
    }
   ],
   "source": [
    "import os\n",
    "import pandas as pd\n",
    "import numpy as np\n",
    "import matplotlib.pyplot as plt\n",
    "from sentence_transformers import SentenceTransformer\n",
    "from sklearn.preprocessing import normalize\n",
    "import joblib\n"
   ]
  },
  {
   "cell_type": "code",
   "execution_count": 4,
   "id": "b41115fe",
   "metadata": {
    "vscode": {
     "languageId": "plaintext"
    }
   },
   "outputs": [
    {
     "data": {
      "text/plain": [
       "(                                               title            brand  \\\n",
       " 0  GOYMFK 1pc Free Standing Shoe Rack, Multi-laye...           GOYMFK   \n",
       " 1  subrtex Leather ding Room, Dining Chairs Set o...          subrtex   \n",
       " 2  Plant Repotting Mat MUYETOL Waterproof Transpl...          MUYETOL   \n",
       " 3  Pickleball Doormat, Welcome Doormat Absorbent ...          VEWETOL   \n",
       " 4  JOIN IRON Foldable TV Trays for Eating Set of ...  JOIN IRON Store   \n",
       " \n",
       "                                          description   price  \\\n",
       " 0  multiple shoes, coats, hats, and other items E...  $24.99   \n",
       " 1                     subrtex Dining chairs Set of 2     NaN   \n",
       " 2                                                NaN   $5.98   \n",
       " 3  The decorative doormat features a subtle textu...  $13.99   \n",
       " 4  Set of Four Folding Trays With Matching Storag...  $89.99   \n",
       " \n",
       "                                           categories  \\\n",
       " 0  ['Home & Kitchen', 'Storage & Organization', '...   \n",
       " 1  ['Home & Kitchen', 'Furniture', 'Dining Room F...   \n",
       " 2  ['Patio, Lawn & Garden', 'Outdoor Décor', 'Doo...   \n",
       " 3  ['Patio, Lawn & Garden', 'Outdoor Décor', 'Doo...   \n",
       " 4  ['Home & Kitchen', 'Furniture', 'Game & Recrea...   \n",
       " \n",
       "                                               images           manufacturer  \\\n",
       " 0  ['https://m.media-amazon.com/images/I/416WaLx1...                 GOYMFK   \n",
       " 1  ['https://m.media-amazon.com/images/I/31SejUEW...  Subrtex Houseware INC   \n",
       " 2  ['https://m.media-amazon.com/images/I/41RgefVq...                MUYETOL   \n",
       " 3  ['https://m.media-amazon.com/images/I/61vz1Igl...              Contrence   \n",
       " 4  ['https://m.media-amazon.com/images/I/41p4d4VJ...                    NaN   \n",
       " \n",
       "          package_dimensions country_of_origin      material          color  \\\n",
       " 0  2.36\"D x 7.87\"W x 21.6\"H             China         Metal          White   \n",
       " 1      18.5\"D x 16\"W x 35\"H               NaN        Sponge          Black   \n",
       " 2           26.8\"L x 26.8\"W               NaN  Polyethylene          Green   \n",
       " 3               24\"L x 16\"W               NaN        Rubber          A5589   \n",
       " 4    18.9\"D x 14.2\"W x 26\"H               NaN          Iron  Grey Set of 4   \n",
       " \n",
       "                                 uniq_id  \n",
       " 0  02593e81-5c09-5069-8516-b0b29f439ded  \n",
       " 1  5938d217-b8c5-5d3e-b1cf-e28e340f292e  \n",
       " 2  b2ede786-3f51-5a45-9a5b-bcf856958cd8  \n",
       " 3  8fd9377b-cfa6-5f10-835c-6b8eca2816b5  \n",
       " 4  bdc9aa30-9439-50dc-8e89-213ea211d66a  ,\n",
       " (312, 12))"
      ]
     },
     "execution_count": 4,
     "metadata": {},
     "output_type": "execute_result"
    }
   ],
   "source": [
    "DATA_PATH = os.path.join(\"..\",\"backend\",\"data\",\"products.csv\")\n",
    "# if running inside backend folder use: DATA_PATH = \"data/products.csv\"\n",
    "df = pd.read_csv(DATA_PATH)\n",
    "df.head(), df.shape\n"
   ]
  },
  {
   "cell_type": "code",
   "execution_count": 5,
   "id": "6d5b5557",
   "metadata": {
    "vscode": {
     "languageId": "plaintext"
    }
   },
   "outputs": [
    {
     "name": "stdout",
     "output_type": "stream",
     "text": [
      "Rows: 312\n"
     ]
    },
    {
     "data": {
      "text/html": [
       "<div>\n",
       "<style scoped>\n",
       "    .dataframe tbody tr th:only-of-type {\n",
       "        vertical-align: middle;\n",
       "    }\n",
       "\n",
       "    .dataframe tbody tr th {\n",
       "        vertical-align: top;\n",
       "    }\n",
       "\n",
       "    .dataframe thead th {\n",
       "        text-align: right;\n",
       "    }\n",
       "</style>\n",
       "<table border=\"1\" class=\"dataframe\">\n",
       "  <thead>\n",
       "    <tr style=\"text-align: right;\">\n",
       "      <th></th>\n",
       "      <th>uniq_id</th>\n",
       "      <th>title</th>\n",
       "      <th>text</th>\n",
       "    </tr>\n",
       "  </thead>\n",
       "  <tbody>\n",
       "    <tr>\n",
       "      <th>0</th>\n",
       "      <td>02593e81-5c09-5069-8516-b0b29f439ded</td>\n",
       "      <td>GOYMFK 1pc Free Standing Shoe Rack, Multi-laye...</td>\n",
       "      <td>GOYMFK 1pc Free Standing Shoe Rack, Multi-laye...</td>\n",
       "    </tr>\n",
       "    <tr>\n",
       "      <th>1</th>\n",
       "      <td>5938d217-b8c5-5d3e-b1cf-e28e340f292e</td>\n",
       "      <td>subrtex Leather ding Room, Dining Chairs Set o...</td>\n",
       "      <td>subrtex Leather ding Room, Dining Chairs Set o...</td>\n",
       "    </tr>\n",
       "    <tr>\n",
       "      <th>2</th>\n",
       "      <td>b2ede786-3f51-5a45-9a5b-bcf856958cd8</td>\n",
       "      <td>Plant Repotting Mat MUYETOL Waterproof Transpl...</td>\n",
       "      <td>Plant Repotting Mat MUYETOL Waterproof Transpl...</td>\n",
       "    </tr>\n",
       "    <tr>\n",
       "      <th>3</th>\n",
       "      <td>8fd9377b-cfa6-5f10-835c-6b8eca2816b5</td>\n",
       "      <td>Pickleball Doormat, Welcome Doormat Absorbent ...</td>\n",
       "      <td>Pickleball Doormat, Welcome Doormat Absorbent ...</td>\n",
       "    </tr>\n",
       "    <tr>\n",
       "      <th>4</th>\n",
       "      <td>bdc9aa30-9439-50dc-8e89-213ea211d66a</td>\n",
       "      <td>JOIN IRON Foldable TV Trays for Eating Set of ...</td>\n",
       "      <td>JOIN IRON Foldable TV Trays for Eating Set of ...</td>\n",
       "    </tr>\n",
       "    <tr>\n",
       "      <th>5</th>\n",
       "      <td>20da3703-26f1-53e5-aa0b-a8104527d1bb</td>\n",
       "      <td>LOVMOR 30'' Bathroom Vanity Sink Base Cabine, ...</td>\n",
       "      <td>LOVMOR 30'' Bathroom Vanity Sink Base Cabine, ...</td>\n",
       "    </tr>\n",
       "    <tr>\n",
       "      <th>6</th>\n",
       "      <td>aba4138e-6401-52ca-a099-02e30b638db4</td>\n",
       "      <td>Folews Bathroom Organizer Over The Toilet Stor...</td>\n",
       "      <td>Folews Bathroom Organizer Over The Toilet Stor...</td>\n",
       "    </tr>\n",
       "    <tr>\n",
       "      <th>7</th>\n",
       "      <td>02593e81-5c09-5069-8516-b0b29f439ded</td>\n",
       "      <td>GOYMFK 1pc Free Standing Shoe Rack, Multi-laye...</td>\n",
       "      <td>GOYMFK 1pc Free Standing Shoe Rack, Multi-laye...</td>\n",
       "    </tr>\n",
       "    <tr>\n",
       "      <th>8</th>\n",
       "      <td>5938d217-b8c5-5d3e-b1cf-e28e340f292e</td>\n",
       "      <td>subrtex Leather ding Room, Dining Chairs Set o...</td>\n",
       "      <td>subrtex Leather ding Room, Dining Chairs Set o...</td>\n",
       "    </tr>\n",
       "    <tr>\n",
       "      <th>9</th>\n",
       "      <td>b2ede786-3f51-5a45-9a5b-bcf856958cd8</td>\n",
       "      <td>Plant Repotting Mat MUYETOL Waterproof Transpl...</td>\n",
       "      <td>Plant Repotting Mat MUYETOL Waterproof Transpl...</td>\n",
       "    </tr>\n",
       "  </tbody>\n",
       "</table>\n",
       "</div>"
      ],
      "text/plain": [
       "                                uniq_id  \\\n",
       "0  02593e81-5c09-5069-8516-b0b29f439ded   \n",
       "1  5938d217-b8c5-5d3e-b1cf-e28e340f292e   \n",
       "2  b2ede786-3f51-5a45-9a5b-bcf856958cd8   \n",
       "3  8fd9377b-cfa6-5f10-835c-6b8eca2816b5   \n",
       "4  bdc9aa30-9439-50dc-8e89-213ea211d66a   \n",
       "5  20da3703-26f1-53e5-aa0b-a8104527d1bb   \n",
       "6  aba4138e-6401-52ca-a099-02e30b638db4   \n",
       "7  02593e81-5c09-5069-8516-b0b29f439ded   \n",
       "8  5938d217-b8c5-5d3e-b1cf-e28e340f292e   \n",
       "9  b2ede786-3f51-5a45-9a5b-bcf856958cd8   \n",
       "\n",
       "                                               title  \\\n",
       "0  GOYMFK 1pc Free Standing Shoe Rack, Multi-laye...   \n",
       "1  subrtex Leather ding Room, Dining Chairs Set o...   \n",
       "2  Plant Repotting Mat MUYETOL Waterproof Transpl...   \n",
       "3  Pickleball Doormat, Welcome Doormat Absorbent ...   \n",
       "4  JOIN IRON Foldable TV Trays for Eating Set of ...   \n",
       "5  LOVMOR 30'' Bathroom Vanity Sink Base Cabine, ...   \n",
       "6  Folews Bathroom Organizer Over The Toilet Stor...   \n",
       "7  GOYMFK 1pc Free Standing Shoe Rack, Multi-laye...   \n",
       "8  subrtex Leather ding Room, Dining Chairs Set o...   \n",
       "9  Plant Repotting Mat MUYETOL Waterproof Transpl...   \n",
       "\n",
       "                                                text  \n",
       "0  GOYMFK 1pc Free Standing Shoe Rack, Multi-laye...  \n",
       "1  subrtex Leather ding Room, Dining Chairs Set o...  \n",
       "2  Plant Repotting Mat MUYETOL Waterproof Transpl...  \n",
       "3  Pickleball Doormat, Welcome Doormat Absorbent ...  \n",
       "4  JOIN IRON Foldable TV Trays for Eating Set of ...  \n",
       "5  LOVMOR 30'' Bathroom Vanity Sink Base Cabine, ...  \n",
       "6  Folews Bathroom Organizer Over The Toilet Stor...  \n",
       "7  GOYMFK 1pc Free Standing Shoe Rack, Multi-laye...  \n",
       "8  subrtex Leather ding Room, Dining Chairs Set o...  \n",
       "9  Plant Repotting Mat MUYETOL Waterproof Transpl...  "
      ]
     },
     "execution_count": 5,
     "metadata": {},
     "output_type": "execute_result"
    }
   ],
   "source": [
    "# Fill missing values and create a combined text field for embedding\n",
    "df['title'] = df['title'].fillna(\"\").astype(str)\n",
    "df['description'] = df['description'].fillna(\"\").astype(str)\n",
    "df['categories'] = df.get('categories', pd.Series([\"\"]*len(df))).fillna(\"\").astype(str)\n",
    "df['text'] = (df['title'] + \". \" + df['description'] + \". \" + df['categories']).str.strip()\n",
    "# add a string id column\n",
    "if 'uniq_id' not in df.columns:\n",
    "    df['uniq_id'] = df.index.astype(str)\n",
    "df = df.reset_index(drop=True)\n",
    "print(\"Rows:\", len(df))\n",
    "df[['uniq_id','title','text']].head(10)\n"
   ]
  },
  {
   "cell_type": "code",
   "execution_count": 6,
   "id": "2edfc012",
   "metadata": {
    "vscode": {
     "languageId": "plaintext"
    }
   },
   "outputs": [
    {
     "name": "stdout",
     "output_type": "stream",
     "text": [
      "Category counts:\n",
      "categories\n",
      "['Patio, Lawn & Garden', 'Outdoor Décor', 'Doormats']                                                        22\n",
      "['Home & Kitchen', 'Furniture', 'Living Room Furniture', 'Tables', 'End Tables']                             21\n",
      "['Home & Kitchen', 'Home Décor Products', 'Mirrors', 'Wall-Mounted Mirrors']                                 21\n",
      "['Home & Kitchen', 'Furniture', 'Living Room Furniture', 'Ottomans']                                         20\n",
      "['Home & Kitchen', 'Furniture', 'Game & Recreation Room Furniture', 'Home Bar Furniture', 'Barstools']       18\n",
      "['Tools & Home Improvement', 'Hardware', 'Bathroom Hardware', 'Towel Bars']                                  11\n",
      "['Home & Kitchen', 'Furniture', 'Living Room Furniture', 'Chairs']                                           10\n",
      "['Home & Kitchen', 'Furniture', 'Home Office Furniture', 'Home Office Chairs', 'Home Office Desk Chairs']    10\n",
      "['Home & Kitchen', 'Furniture', 'Home Office Furniture', 'Home Office Desks']                                 7\n",
      "['Home & Kitchen', 'Furniture', 'Dining Room Furniture', 'Chairs']                                            6\n",
      "Name: count, dtype: int64\n",
      "\n",
      "Price stats:\n",
      "count        215\n",
      "unique       135\n",
      "top       $24.99\n",
      "freq           9\n",
      "Name: price, dtype: object\n"
     ]
    },
    {
     "data": {
      "text/html": [
       "<div>\n",
       "<style scoped>\n",
       "    .dataframe tbody tr th:only-of-type {\n",
       "        vertical-align: middle;\n",
       "    }\n",
       "\n",
       "    .dataframe tbody tr th {\n",
       "        vertical-align: top;\n",
       "    }\n",
       "\n",
       "    .dataframe thead th {\n",
       "        text-align: right;\n",
       "    }\n",
       "</style>\n",
       "<table border=\"1\" class=\"dataframe\">\n",
       "  <thead>\n",
       "    <tr style=\"text-align: right;\">\n",
       "      <th></th>\n",
       "      <th>204</th>\n",
       "      <th>125</th>\n",
       "      <th>300</th>\n",
       "      <th>289</th>\n",
       "      <th>41</th>\n",
       "    </tr>\n",
       "  </thead>\n",
       "  <tbody>\n",
       "    <tr>\n",
       "      <th>uniq_id</th>\n",
       "      <td>92344a28-7b9e-56f1-bd7b-093b1a5acd8c</td>\n",
       "      <td>16428a22-55b3-557f-b437-e350c36a9e34</td>\n",
       "      <td>8da75933-cc9d-5eb9-bc3d-0d9f38f59e72</td>\n",
       "      <td>b0d2c5ca-144e-56df-b0c1-971a334a0d5e</td>\n",
       "      <td>76b3e878-b8e1-5ad0-9de6-c212f189c81a</td>\n",
       "    </tr>\n",
       "    <tr>\n",
       "      <th>title</th>\n",
       "      <td>latifolia Shoe Cabinet, Vintage Shoe Storage C...</td>\n",
       "      <td>WAYTRIM Dresser Storage Tower, 4 Fabric Organi...</td>\n",
       "      <td>Carter's by DaVinci Colby 3-Drawer Dresser in ...</td>\n",
       "      <td>Lipper International Child's Toy Chest, 33.25\"...</td>\n",
       "      <td>LEASYLIFE Black Metal Trash can,10L/2.6GAL,Ope...</td>\n",
       "    </tr>\n",
       "    <tr>\n",
       "      <th>categories</th>\n",
       "      <td>['Home &amp; Kitchen', 'Storage &amp; Organization', '...</td>\n",
       "      <td>['Home &amp; Kitchen', 'Furniture', 'Bedroom Furni...</td>\n",
       "      <td>['Baby Products', 'Nursery', 'Furniture', 'Cha...</td>\n",
       "      <td>['Baby Products', 'Nursery', 'Furniture', 'Sto...</td>\n",
       "      <td>['Home &amp; Kitchen', 'Storage &amp; Organization', '...</td>\n",
       "    </tr>\n",
       "    <tr>\n",
       "      <th>price</th>\n",
       "      <td>NaN</td>\n",
       "      <td>NaN</td>\n",
       "      <td>$199.00</td>\n",
       "      <td>NaN</td>\n",
       "      <td>$64.99</td>\n",
       "    </tr>\n",
       "  </tbody>\n",
       "</table>\n",
       "</div>"
      ],
      "text/plain": [
       "                                                          204  \\\n",
       "uniq_id                  92344a28-7b9e-56f1-bd7b-093b1a5acd8c   \n",
       "title       latifolia Shoe Cabinet, Vintage Shoe Storage C...   \n",
       "categories  ['Home & Kitchen', 'Storage & Organization', '...   \n",
       "price                                                     NaN   \n",
       "\n",
       "                                                          125  \\\n",
       "uniq_id                  16428a22-55b3-557f-b437-e350c36a9e34   \n",
       "title       WAYTRIM Dresser Storage Tower, 4 Fabric Organi...   \n",
       "categories  ['Home & Kitchen', 'Furniture', 'Bedroom Furni...   \n",
       "price                                                     NaN   \n",
       "\n",
       "                                                          300  \\\n",
       "uniq_id                  8da75933-cc9d-5eb9-bc3d-0d9f38f59e72   \n",
       "title       Carter's by DaVinci Colby 3-Drawer Dresser in ...   \n",
       "categories  ['Baby Products', 'Nursery', 'Furniture', 'Cha...   \n",
       "price                                                 $199.00   \n",
       "\n",
       "                                                          289  \\\n",
       "uniq_id                  b0d2c5ca-144e-56df-b0c1-971a334a0d5e   \n",
       "title       Lipper International Child's Toy Chest, 33.25\"...   \n",
       "categories  ['Baby Products', 'Nursery', 'Furniture', 'Sto...   \n",
       "price                                                     NaN   \n",
       "\n",
       "                                                          41   \n",
       "uniq_id                  76b3e878-b8e1-5ad0-9de6-c212f189c81a  \n",
       "title       LEASYLIFE Black Metal Trash can,10L/2.6GAL,Ope...  \n",
       "categories  ['Home & Kitchen', 'Storage & Organization', '...  \n",
       "price                                                  $64.99  "
      ]
     },
     "execution_count": 6,
     "metadata": {},
     "output_type": "execute_result"
    }
   ],
   "source": [
    "# Category counts\n",
    "print(\"Category counts:\")\n",
    "print(df['categories'].value_counts().head(10))\n",
    "\n",
    "# Price stats (if price exists)\n",
    "if 'price' in df.columns:\n",
    "    print(\"\\nPrice stats:\")\n",
    "    print(df['price'].describe())\n",
    "\n",
    "# Show 5 random examples\n",
    "df.sample(5)[['uniq_id','title','categories','price']].transpose()\n"
   ]
  },
  {
   "cell_type": "code",
   "execution_count": 7,
   "id": "32e04e14",
   "metadata": {
    "vscode": {
     "languageId": "plaintext"
    }
   },
   "outputs": [
    {
     "name": "stderr",
     "output_type": "stream",
     "text": [
      "C:\\Users\\nitik\\AppData\\Local\\Temp\\ipykernel_22144\\2495990980.py:8: UserWarning: Tight layout not applied. The bottom and top margins cannot be made large enough to accommodate all Axes decorations.\n",
      "  plt.tight_layout()\n"
     ]
    },
    {
     "data": {
      "image/png": "[encoded data removed]",
      "text/plain": [
       "<Figure size 800x400 with 1 Axes>"
      ]
     },
     "metadata": {},
     "output_type": "display_data"
    }
   ],
   "source": [
    "# Plot category distribution (top 10)\n",
    "top = df['categories'].value_counts().head(10)\n",
    "plt.figure(figsize=(8,4))\n",
    "top.plot.bar()\n",
    "plt.title(\"Top 10 categories\")\n",
    "plt.xlabel(\"Category\")\n",
    "plt.ylabel(\"Count\")\n",
    "plt.tight_layout()\n",
    "plt.show()\n"
   ]
  },
  {
   "cell_type": "code",
   "execution_count": 8,
   "id": "4a468d03",
   "metadata": {
    "vscode": {
     "languageId": "plaintext"
    }
   },
   "outputs": [],
   "source": [
    "model = SentenceTransformer(\"all-MiniLM-L6-v2\")  # small & fast"
   ]
  },
  {
   "cell_type": "code",
   "execution_count": 9,
   "id": "309c258d",
   "metadata": {
    "vscode": {
     "languageId": "plaintext"
    }
   },
   "outputs": [
    {
     "name": "stdout",
     "output_type": "stream",
     "text": [
      "Embeddings shape: (312, 384)\n"
     ]
    }
   ],
   "source": [
    "# compute embeddings in batches to avoid memory spikes\n",
    "texts = df['text'].tolist()\n",
    "BATCH = 64\n",
    "embs = []\n",
    "for i in range(0, len(texts), BATCH):\n",
    "    batch = texts[i:i+BATCH]\n",
    "    e = model.encode(batch, show_progress_bar=False, convert_to_numpy=True)\n",
    "    embs.append(e)\n",
    "embeddings = np.vstack(embs)\n",
    "print(\"Embeddings shape:\", embeddings.shape)\n",
    "# normalize (for cosine)\n",
    "embeddings = normalize(embeddings, norm='l2', axis=1)\n"
   ]
  },
  {
   "cell_type": "code",
   "execution_count": 10,
   "id": "0b69f596",
   "metadata": {
    "vscode": {
     "languageId": "plaintext"
    }
   },
   "outputs": [
    {
     "name": "stdout",
     "output_type": "stream",
     "text": [
      "Saved embeddings to ..\\backend\\models\\embeddings.npy\n"
     ]
    }
   ],
   "source": [
    "OUT_DIR = os.path.join(\"..\",\"backend\",\"models\")\n",
    "os.makedirs(OUT_DIR, exist_ok=True)\n",
    "np.save(os.path.join(OUT_DIR, \"embeddings.npy\"), embeddings)\n",
    "df.to_csv(os.path.join(OUT_DIR, \"products_with_text.csv\"), index=False)\n",
    "print(\"Saved embeddings to\", os.path.join(OUT_DIR,\"embeddings.npy\"))\n"
   ]
  },
  {
   "cell_type": "code",
   "execution_count": 11,
   "id": "3aed30c0",
   "metadata": {
    "vscode": {
     "languageId": "plaintext"
    }
   },
   "outputs": [
    {
     "name": "stdout",
     "output_type": "stream",
     "text": [
      "Built and saved FAISS index.\n"
     ]
    }
   ],
   "source": [
    "try:\n",
    "    import faiss\n",
    "    dim = embeddings.shape[1]\n",
    "    index = faiss.IndexFlatIP(dim)  # inner-product on normalized vectors = cosine\n",
    "    index.add(embeddings.astype('float32'))\n",
    "    # save index\n",
    "    faiss.write_index(index, os.path.join(OUT_DIR, \"faiss_index.idx\"))\n",
    "    print(\"Built and saved FAISS index.\")\n",
    "except Exception as e:\n",
    "    print(\"FAISS not available or error:\", e)\n",
    "    # fallback: save embeddings + use sklearn.NearestNeighbors later\n",
    "    joblib.dump({\"embeddings\": embeddings, \"ids\": df['uniq_id'].tolist()}, os.path.join(OUT_DIR, \"nn_store.pkl\"))\n",
    "    print(\"Saved embeddings for sklearn fallback.\")\n"
   ]
  },
  {
   "cell_type": "code",
   "execution_count": 12,
   "id": "bada793a",
   "metadata": {
    "vscode": {
     "languageId": "plaintext"
    }
   },
   "outputs": [
    {
     "name": "stdout",
     "output_type": "stream",
     "text": [
      "Top ids:                                   uniq_id  \\\n",
      "7    02593e81-5c09-5069-8516-b0b29f439ded   \n",
      "0    02593e81-5c09-5069-8516-b0b29f439ded   \n",
      "82   122c5c2a-5490-51ce-8555-9526c9698a38   \n",
      "149  f28d5cba-ecd4-5d82-87da-d926d48e1155   \n",
      "292  a10176fb-74af-5428-9aaf-2787aa4d66d2   \n",
      "234  feca0b89-547f-5bca-9b97-f255c5467e47   \n",
      "\n",
      "                                                 title  \n",
      "7    GOYMFK 1pc Free Standing Shoe Rack, Multi-laye...  \n",
      "0    GOYMFK 1pc Free Standing Shoe Rack, Multi-laye...  \n",
      "82   LANTEFUL Shoe Rack Organizer Shoe Storage Cabi...  \n",
      "149  sogesfurniture 5 Tier Free Standing Wooden Sho...  \n",
      "292  MoNiBloom Foldable Storage Free Standing Shoes...  \n",
      "234  Soerreo Shoe Slot Storage Box Adjustable Shoe ...  \n"
     ]
    }
   ],
   "source": [
    "# Query example: use first row text\n",
    "query_text = df.loc[0, 'text']\n",
    "q_emb = model.encode([query_text], convert_to_numpy=True)\n",
    "q_emb = q_emb / np.linalg.norm(q_emb, axis=1, keepdims=True)\n",
    "k = min(6, len(df))\n",
    "try:\n",
    "    # faiss path\n",
    "    D, I = index.search(q_emb.astype('float32'), k)\n",
    "    print(\"Top ids:\", df.loc[I[0], ['uniq_id','title']])\n",
    "except:\n",
    "    from sklearn.neighbors import NearestNeighbors\n",
    "    store = joblib.load(os.path.join(OUT_DIR,\"nn_store.pkl\"))\n",
    "    neigh = NearestNeighbors(n_neighbors=k, metric='cosine').fit(store['embeddings'])\n",
    "    dist, idx = neigh.kneighbors(q_emb)\n",
    "    print(df.iloc[idx[0]][['uniq_id','title']])\n"
   ]
  },
  {
   "cell_type": "code",
   "execution_count": 14,
   "id": "0c2f06b0",
   "metadata": {
    "vscode": {
     "languageId": "plaintext"
    }
   },
   "outputs": [],
   "source": [
    "## Summary\n",
    "# - Embeddings saved: `backend/models/embeddings.npy`\n",
    "# - Index saved: `backend/models/faiss_index.idx` or `backend/models/nn_store.pkl`\n",
    "# - Next: open `02_model_training_and_evaluation.ipynb` to evaluate retrieval and run small ML experiments.\n"
   ]
  }
 ],
 "metadata": {
  "kernelspec": {
   "display_name": "Python 3 (ipykernel)",
   "language": "python",
   "name": "python3"
  },
  "language_info": {
   "codemirror_mode": {
    "name": "ipython",
    "version": 3
   },
   "file_extension": ".py",
   "mimetype": "text/x-python",
   "name": "python",
   "nbconvert_exporter": "python",
   "pygments_lexer": "ipython3",
   "version": "3.13.1"
  }
 },
 "nbformat": 4,
 "nbformat_minor": 5
}
