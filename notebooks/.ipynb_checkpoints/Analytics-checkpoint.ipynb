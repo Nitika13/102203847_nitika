{
 "cells": [
  {
   "cell_type": "code",
   "execution_count": null,
   "id": "4b838ec3",
   "metadata": {
    "vscode": {
     "languageId": "plaintext"
    }
   },
   "outputs": [],
   "source": [
    "import pandas as pd\n",
    "import matplotlib.pyplot as plt\n",
    "import seaborn as sns\n",
    "\n",
    "# optional: better plot style\n",
    "sns.set(style=\"whitegrid\")\n"
   ]
  },
  {
   "cell_type": "code",
   "execution_count": null,
   "id": "a4bf17dd",
   "metadata": {
    "vscode": {
     "languageId": "plaintext"
    }
   },
   "outputs": [],
   "source": [
    "df = pd.read_csv(\"../backend/app/data/products.csv\")\n",
    "df.head()\n"
   ]
  },
  {
   "cell_type": "code",
   "execution_count": null,
   "id": "fb03a7e0",
   "metadata": {
    "vscode": {
     "languageId": "plaintext"
    }
   },
   "outputs": [],
   "source": [
    "print(\"Total Products:\", len(df))\n",
    "print(\"Average Price:\", round(df[\"price\"].mean(), 2))\n",
    "print(\"Most Common Brand:\", df[\"brand\"].mode()[0])\n",
    "print(\"Number of Unique Categories:\", df[\"category\"].nunique())\n"
   ]
  },
  {
   "cell_type": "code",
   "execution_count": null,
   "id": "c512644f",
   "metadata": {
    "vscode": {
     "languageId": "plaintext"
    }
   },
   "outputs": [],
   "source": [
    "plt.figure(figsize=(8,5))\n",
    "sns.histplot(df[\"price\"], bins=20, kde=True)\n",
    "plt.title(\"Price Distribution of Products\")\n",
    "plt.xlabel(\"Price (₹)\")\n",
    "plt.ylabel(\"Count\")\n",
    "plt.show()\n"
   ]
  },
  {
   "cell_type": "code",
   "execution_count": null,
   "id": "af2a50d2",
   "metadata": {
    "vscode": {
     "languageId": "plaintext"
    }
   },
   "outputs": [],
   "source": [
    "top_brands = df[\"brand\"].value_counts().head(5)\n",
    "plt.figure(figsize=(6,4))\n",
    "sns.barplot(x=top_brands.index, y=top_brands.values)\n",
    "plt.title(\"Top 5 Brands by Product Count\")\n",
    "plt.xlabel(\"Brand\")\n",
    "plt.ylabel(\"Number of Products\")\n",
    "plt.show()\n"
   ]
  },
  {
   "cell_type": "code",
   "execution_count": null,
   "id": "31ee6fee",
   "metadata": {
    "vscode": {
     "languageId": "plaintext"
    }
   },
   "outputs": [],
   "source": [
    "category_counts = df[\"category\"].value_counts()\n",
    "plt.figure(figsize=(6,6))\n",
    "category_counts.plot(kind=\"pie\", autopct=\"%1.1f%%\", startangle=90)\n",
    "plt.title(\"Product Category Distribution\")\n",
    "plt.ylabel(\"\")\n",
    "plt.show()\n"
   ]
  },
  {
   "cell_type": "code",
   "execution_count": null,
   "id": "ac224727",
   "metadata": {
    "vscode": {
     "languageId": "plaintext"
    }
   },
   "outputs": [],
   "source": [
    "### ✅ Analytics Summary\n",
    "\n",
    "#- Total Products: ___  \n",
    "#- Average Price: ₹___  \n",
    "#- Most Common Brand: ___  \n",
    "#- Most Common Category: ___  \n",
    "\n",
    "#These analytics provide insight into the dataset composition and trends, which support decision-making for recommendations and inventory management.\n"
   ]
  }
 ],
 "metadata": {
  "language_info": {
   "name": "python"
  }
 },
 "nbformat": 4,
 "nbformat_minor": 5
}
