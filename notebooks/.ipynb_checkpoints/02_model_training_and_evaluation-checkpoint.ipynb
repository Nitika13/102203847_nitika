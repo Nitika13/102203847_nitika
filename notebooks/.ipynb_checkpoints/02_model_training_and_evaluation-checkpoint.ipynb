{
 "cells": [
  {
   "cell_type": "code",
   "execution_count": null,
   "id": "a55fa4a4",
   "metadata": {
    "vscode": {
     "languageId": "plaintext"
    }
   },
   "outputs": [],
   "source": [
    "# 02 — Model training & evaluation\n",
    "#Evaluate semantic retrieval using embeddings, compute recall@k on synthetic holdout, small clustering baseline, and optional CV placeholder.\n"
   ]
  },
  {
   "cell_type": "code",
   "execution_count": null,
   "id": "85ac7b5b",
   "metadata": {
    "vscode": {
     "languageId": "plaintext"
    }
   },
   "outputs": [],
   "source": [
    "import os, numpy as np, pandas as pd\n",
    "from sklearn.metrics import pairwise_distances\n",
    "from sklearn.model_selection import train_test_split\n",
    "from sklearn.neighbors import NearestNeighbors\n",
    "from sklearn.cluster import KMeans\n",
    "import joblib\n",
    "\n",
    "OUT_DIR = os.path.join(\"..\",\"backend\",\"models\")\n",
    "df = pd.read_csv(os.path.join(OUT_DIR, \"products_with_text.csv\"))\n",
    "emb_path = os.path.join(OUT_DIR, \"embeddings.npy\")\n",
    "embeddings = np.load(emb_path)\n",
    "print(\"Loaded\", embeddings.shape, \"embeddings for\", len(df), \"rows\")\n"
   ]
  }
 ],
 "metadata": {
  "language_info": {
   "name": "python"
  }
 },
 "nbformat": 4,
 "nbformat_minor": 5
}
