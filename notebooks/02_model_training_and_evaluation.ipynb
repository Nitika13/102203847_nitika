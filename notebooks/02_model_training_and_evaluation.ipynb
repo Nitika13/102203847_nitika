{
 "cells": [
  {
   "cell_type": "code",
   "execution_count": 5,
   "id": "a55fa4a4",
   "metadata": {
    "vscode": {
     "languageId": "plaintext"
    }
   },
   "outputs": [],
   "source": [
    "# 02 — Model training & evaluation\n",
    "#Evaluate semantic retrieval using embeddings, compute recall@k on synthetic holdout, small clustering baseline, and optional CV placeholder.\n"
   ]
  },
  {
   "cell_type": "code",
   "execution_count": 6,
   "id": "85ac7b5b",
   "metadata": {
    "vscode": {
     "languageId": "plaintext"
    }
   },
   "outputs": [
    {
     "name": "stdout",
     "output_type": "stream",
     "text": [
      "Loaded (312, 384) embeddings for 312 rows\n"
     ]
    }
   ],
   "source": [
    "import os, numpy as np, pandas as pd\n",
    "from sklearn.metrics import pairwise_distances\n",
    "from sklearn.model_selection import train_test_split\n",
    "from sklearn.neighbors import NearestNeighbors\n",
    "from sklearn.cluster import KMeans\n",
    "import joblib\n",
    "\n",
    "OUT_DIR = os.path.join(\"..\",\"backend\",\"models\")\n",
    "df = pd.read_csv(os.path.join(OUT_DIR, \"products_with_text.csv\"))\n",
    "emb_path = os.path.join(OUT_DIR, \"embeddings.npy\")\n",
    "embeddings = np.load(emb_path)\n",
    "print(\"Loaded\", embeddings.shape, \"embeddings for\", len(df), \"rows\")\n"
   ]
  },
  {
   "cell_type": "code",
   "execution_count": 7,
   "id": "3a423656",
   "metadata": {
    "vscode": {
     "languageId": "plaintext"
    }
   },
   "outputs": [
    {
     "name": "stdout",
     "output_type": "stream",
     "text": [
      "Train: 249 Test: 63\n"
     ]
    }
   ],
   "source": [
    "# create train/test split indices\n",
    "idx = np.arange(len(df))\n",
    "train_idx, test_idx = train_test_split(idx, test_size=0.2, random_state=42)\n",
    "print(\"Train:\", len(train_idx), \"Test:\", len(test_idx))\n"
   ]
  },
  {
   "cell_type": "code",
   "execution_count": 8,
   "id": "c9e2b822",
   "metadata": {
    "vscode": {
     "languageId": "plaintext"
    }
   },
   "outputs": [],
   "source": [
    "train_emb = embeddings[train_idx]\n",
    "test_emb = embeddings[test_idx]\n",
    "neigh = NearestNeighbors(n_neighbors=20, metric='cosine').fit(train_emb)\n"
   ]
  },
  {
   "cell_type": "code",
   "execution_count": 13,
   "id": "9088e943",
   "metadata": {
    "vscode": {
     "languageId": "plaintext"
    }
   },
   "outputs": [],
   "source": [
    "def recall_at_k(neigh, test_emb, test_idx, train_idx, k=5):\n",
    "    # For evaluation we assume \"ground-truth\" similar items are those sharing the same category.\n",
    "    # This is a proxy; better labels would be user clicks or curated similar pairs.\n",
    "    D, I = neigh.kneighbors(test_emb, n_neighbors=k)\n",
    "    recalls = []\n",
    "    for i, row in enumerate(I):\n",
    "        test_row_idx = test_idx[i]\n",
    "        test_cat = df.loc[test_row_idx, 'categories']\n",
    "        retrieved_indices = train_idx[row]  # map to original indices\n",
    "        retrieved_cats = df.loc[retrieved_indices, 'categories'].values\n",
    "        # check if any retrieved category equals test category\n",
    "        recall = int(test_cat in retrieved_cats)\n",
    "        recalls.append(recall)\n",
    "    return np.mean(recalls)\n"
   ]
  },
  {
   "cell_type": "code",
   "execution_count": 14,
   "id": "5cf37d29",
   "metadata": {
    "vscode": {
     "languageId": "plaintext"
    }
   },
   "outputs": [
    {
     "name": "stdout",
     "output_type": "stream",
     "text": [
      "Recall@1: 0.651\n",
      "Recall@3: 0.746\n",
      "Recall@5: 0.762\n"
     ]
    }
   ],
   "source": [
    "for k in [1,3,5]:\n",
    "    r = recall_at_k(neigh, test_emb, test_idx, train_idx, k=k)\n",
    "    print(f\"Recall@{k}: {r:.3f}\")\n"
   ]
  },
  {
   "cell_type": "code",
   "execution_count": 15,
   "id": "e5c8bc4f",
   "metadata": {
    "vscode": {
     "languageId": "plaintext"
    }
   },
   "outputs": [
    {
     "name": "stdout",
     "output_type": "stream",
     "text": [
      "cluster\n",
      "2    65\n",
      "4    49\n",
      "0    38\n",
      "9    36\n",
      "5    34\n",
      "Name: count, dtype: int64\n"
     ]
    }
   ],
   "source": [
    "k = min(10, len(df)//10)\n",
    "km = KMeans(n_clusters=k, random_state=42).fit(embeddings)\n",
    "df['cluster'] = km.labels_\n",
    "# show cluster sizes\n",
    "print(df['cluster'].value_counts().head())\n"
   ]
  },
  {
   "cell_type": "code",
   "execution_count": 16,
   "id": "9a164f7b",
   "metadata": {
    "vscode": {
     "languageId": "plaintext"
    }
   },
   "outputs": [
    {
     "name": "stdout",
     "output_type": "stream",
     "text": [
      "Cluster 0\n",
      "                             uniq_id                                                                                                                                                                                          title                                                                                                               categories\n",
      "02593e81-5c09-5069-8516-b0b29f439ded                                                                     GOYMFK 1pc Free Standing Shoe Rack, Multi-layer Metal Shoe Cap Rack With 8 Double Hooks For Living Room, Bathroom, Hallway ['Home & Kitchen', 'Storage & Organization', 'Clothing & Closet Storage', 'Shoe Organizers', 'Free Standing Shoe Racks']\n",
      "aba4138e-6401-52ca-a099-02e30b638db4 Folews Bathroom Organizer Over The Toilet Storage, 4-Tier Bathroom Shelves Over Toilet Shelf Above Toilet Storage Rack Freestanding Bathroom Space Saver Adjustable Shelves and Baskets, Black                                         ['Home & Kitchen', 'Furniture', 'Bathroom Furniture', 'Over-the-Toilet Storage']\n",
      "02593e81-5c09-5069-8516-b0b29f439ded                                                                     GOYMFK 1pc Free Standing Shoe Rack, Multi-layer Metal Shoe Cap Rack With 8 Double Hooks For Living Room, Bathroom, Hallway ['Home & Kitchen', 'Storage & Organization', 'Clothing & Closet Storage', 'Shoe Organizers', 'Free Standing Shoe Racks']\n",
      "---\n",
      "Cluster 1\n",
      "                             uniq_id                                                                                                  title                                                                                                         categories\n",
      "cf4086a8-d611-56f1-ba50-4f2ac2670b42                                      Kingston Brass BA1752BB Heritage 18-Inch Towel-Bar, Brushed Brass                                        ['Tools & Home Improvement', 'Hardware', 'Bathroom Hardware', 'Towel Bars']\n",
      "4129440e-cfff-5498-b9d6-16ec18b0a285                                          Chief Mfg.Swing-Arm Wall Mount Hardware Mount Black (TS218SU) ['Electronics', 'Television & Video', 'Accessories', 'TV Mounts, Stands & Turntables', 'TV Wall & Ceiling Mounts']\n",
      "7e2fae41-2f67-5363-a013-9a3854be6630 LASCO 35-5019 Hallmack Style 24-Inch Towel Bar Accessory, All Metal Construction, Chrome Plated Finish                                        ['Tools & Home Improvement', 'Hardware', 'Bathroom Hardware', 'Towel Bars']\n",
      "---\n",
      "Cluster 2\n",
      "                             uniq_id                                                                                                                                                       title                                                                      categories\n",
      "bdc9aa30-9439-50dc-8e89-213ea211d66a                  JOIN IRON Foldable TV Trays for Eating Set of 4 with Stand,Folding TV/Snack Tray Table Set,Folding TV Dinner Tables for Small Space,(Grey) ['Home & Kitchen', 'Furniture', 'Game & Recreation Room Furniture', 'TV Trays']\n",
      "20da3703-26f1-53e5-aa0b-a8104527d1bb LOVMOR 30'' Bathroom Vanity Sink Base Cabine, Storage Cabinet with 3-Drawers on The Left, Suitable for Bathrooms, Kitchens, Laundry Rooms and Other Places.          ['Home & Kitchen', 'Furniture', 'Bathroom Furniture', 'Bathroom Sets']\n",
      "bdc9aa30-9439-50dc-8e89-213ea211d66a                  JOIN IRON Foldable TV Trays for Eating Set of 4 with Stand,Folding TV/Snack Tray Table Set,Folding TV Dinner Tables for Small Space,(Grey) ['Home & Kitchen', 'Furniture', 'Game & Recreation Room Furniture', 'TV Trays']\n",
      "---\n",
      "Cluster 3\n",
      "                             uniq_id                                                                                                           title                                                                       categories\n",
      "ed0012a9-6a2a-58be-9047-b29c5d8a4c76                         HomePop Metal Accent Table Triangle Base Round Mirror Top, Black, 18.24D x 24W x 18H in ['Home & Kitchen', 'Furniture', 'Living Room Furniture', 'Tables', 'End Tables']\n",
      "b5ba6e32-6eea-582c-85be-c44775bed4d8 LONGWIN Black Hanging Wall Round Mirror Decor Geometric Circle Mirror for Bathroom Bedroom Living Room 10.2inch     ['Home & Kitchen', 'Home Décor Products', 'Mirrors', 'Wall-Mounted Mirrors']\n",
      "2387f6a9-15bd-5e9a-ac67-2c51738fb09f                                         Plymor Rectangle 5mm Beveled Glass Mirror, 6 inch x 12 inch (Pack of 6)     ['Home & Kitchen', 'Home Décor Products', 'Mirrors', 'Wall-Mounted Mirrors']\n",
      "---\n",
      "Cluster 4\n",
      "                             uniq_id                                                                                                                                    title                                                               categories\n",
      "5938d217-b8c5-5d3e-b1cf-e28e340f292e                                                                                 subrtex Leather ding Room, Dining Chairs Set of 2, Black       ['Home & Kitchen', 'Furniture', 'Dining Room Furniture', 'Chairs']\n",
      "5938d217-b8c5-5d3e-b1cf-e28e340f292e                                                                                 subrtex Leather ding Room, Dining Chairs Set of 2, Black       ['Home & Kitchen', 'Furniture', 'Dining Room Furniture', 'Chairs']\n",
      "04bc713c-9fe6-5c25-8ea3-4ddb44b06806 Homebeez 39.1\" Length Bedroom Storage Bench, End Bed Ottoman Bench with Golden Metal Legs, Dressing Chair for Entryway Living Room,Green ['Home & Kitchen', 'Furniture', 'Entryway Furniture', 'Storage Benches']\n",
      "---\n",
      "Cluster 5\n",
      "                             uniq_id                                                                                                                                                                        title                                                                                                categories\n",
      "a0a69530-a944-589d-a036-90358cb9e485                                                                                                     Boss Office Products Any Task Mid-Back Task Chair with Loop Arms in Grey ['Home & Kitchen', 'Furniture', 'Home Office Furniture', 'Home Office Chairs', 'Home Office Desk Chairs']\n",
      "d5a75f7b-b874-5757-9778-790a1f33be14 Tiita Comfy Saucer Chair, Soft Faux Fur Oversized Folding Accent Chair, Lounge Lazy Chair for Kids Teens Adults, Metal Frame Moon Chair for Bedroom, Living Room, Dorm Rooms                                        ['Home & Kitchen', 'Furniture', 'Living Room Furniture', 'Chairs']\n",
      "fb5af385-aee6-568c-a22f-e6b90ef92dac                                                                                              Flash Furniture Webb Commercial Grade 24\" Round Blue Metal Indoor-Outdoor Table                                        ['Home & Kitchen', 'Furniture', 'Dining Room Furniture', 'Tables']\n",
      "---\n"
     ]
    }
   ],
   "source": [
    "for c in sorted(df['cluster'].unique())[:6]:\n",
    "    sample = df[df['cluster']==c].head(3)[['uniq_id','title','categories']]\n",
    "    print(\"Cluster\", c)\n",
    "    print(sample.to_string(index=False))\n",
    "    print(\"---\")\n"
   ]
  },
  {
   "cell_type": "code",
   "execution_count": 17,
   "id": "a8a8918f",
   "metadata": {
    "vscode": {
     "languageId": "plaintext"
    }
   },
   "outputs": [
    {
     "name": "stdout",
     "output_type": "stream",
     "text": [
      "CV placeholder: if images are available, use torchvision/resnet18, replace classifier and finetune.\n"
     ]
    }
   ],
   "source": [
    "# If you have product images saved locally with filenames matching uniq_id,\n",
    "# implement a simple transfer-learning reminder here.\n",
    "# This cell is a placeholder showing steps (no heavy training).\n",
    "print(\"CV placeholder: if images are available, use torchvision/resnet18, replace classifier and finetune.\")\n"
   ]
  },
  {
   "cell_type": "code",
   "execution_count": 18,
   "id": "71676418",
   "metadata": {
    "vscode": {
     "languageId": "plaintext"
    }
   },
   "outputs": [
    {
     "name": "stdout",
     "output_type": "stream",
     "text": [
      "Saved evaluation: {'recall@1': np.float64(0.6507936507936508), 'recall@3': np.float64(0.746031746031746), 'recall@5': np.float64(0.7619047619047619), 'n_products': 312}\n"
     ]
    }
   ],
   "source": [
    "res = {\n",
    "    \"recall@1\": recall_at_k(neigh, test_emb, test_idx, train_idx, k=1),\n",
    "    \"recall@3\": recall_at_k(neigh, test_emb, test_idx, train_idx, k=3),\n",
    "    \"recall@5\": recall_at_k(neigh, test_emb, test_idx, train_idx, k=5),\n",
    "    \"n_products\": len(df)\n",
    "}\n",
    "joblib.dump(res, os.path.join(OUT_DIR, \"evaluation_results.pkl\"))\n",
    "print(\"Saved evaluation:\", res)\n"
   ]
  },
  {
   "cell_type": "code",
   "execution_count": 20,
   "id": "a3cbd5e8",
   "metadata": {
    "vscode": {
     "languageId": "plaintext"
    }
   },
   "outputs": [],
   "source": [
    "## Summary\n",
    "# - Retrieval evaluated using category-proximity as a proxy label.\n",
    "# - Recall@k saved to `backend/models/evaluation_results.pkl`.\n",
    "# - Next: integrate evaluation findings into README and mention limitations (small dataset, category proxy).\n"
   ]
  }
 ],
 "metadata": {
  "kernelspec": {
   "display_name": "Python 3 (ipykernel)",
   "language": "python",
   "name": "python3"
  },
  "language_info": {
   "codemirror_mode": {
    "name": "ipython",
    "version": 3
   },
   "file_extension": ".py",
   "mimetype": "text/x-python",
   "name": "python",
   "nbconvert_exporter": "python",
   "pygments_lexer": "ipython3",
   "version": "3.13.1"
  }
 },
 "nbformat": 4,
 "nbformat_minor": 5
}
